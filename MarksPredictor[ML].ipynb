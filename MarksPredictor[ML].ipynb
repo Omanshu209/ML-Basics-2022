{
 "cells": [
  {
   "cell_type": "markdown",
   "id": "9e1ac1b6",
   "metadata": {},
   "source": [
    "# Marks Predictor"
   ]
  },
  {
   "cell_type": "code",
   "execution_count": 1,
   "id": "3a00a8b6",
   "metadata": {},
   "outputs": [],
   "source": [
    "import pandas as pd \n",
    "from sklearn.model_selection import train_test_split\n",
    "from sklearn.ensemble import RandomForestRegressor "
   ]
  },
  {
   "cell_type": "markdown",
   "id": "4512a8d1",
   "metadata": {},
   "source": [
    "## Preparing The Data"
   ]
  },
  {
   "cell_type": "code",
   "execution_count": 2,
   "id": "faf686ae",
   "metadata": {},
   "outputs": [],
   "source": [
    "df=pd.read_csv('marks.csv') "
   ]
  },
  {
   "cell_type": "code",
   "execution_count": 3,
   "id": "fa7d4584",
   "metadata": {},
   "outputs": [],
   "source": [
    "X=df.drop(['Marks'],axis=1).copy().values \n",
    "y=df['Marks'].copy().values "
   ]
  },
  {
   "cell_type": "code",
   "execution_count": 4,
   "id": "da682a54",
   "metadata": {},
   "outputs": [],
   "source": [
    "X_train,X_test,y_train,y_test=train_test_split(X,y,random_state=209) "
   ]
  },
  {
   "cell_type": "markdown",
   "id": "adb01b0a",
   "metadata": {},
   "source": [
    "## Training The Model"
   ]
  },
  {
   "cell_type": "code",
   "execution_count": 5,
   "id": "2c687887",
   "metadata": {},
   "outputs": [
    {
     "data": {
      "text/plain": [
       "RandomForestRegressor()"
      ]
     },
     "execution_count": 5,
     "metadata": {},
     "output_type": "execute_result"
    }
   ],
   "source": [
    "model=RandomForestRegressor() \n",
    "model.fit(X_train,y_train)  "
   ]
  },
  {
   "cell_type": "markdown",
   "id": "125cca26",
   "metadata": {},
   "source": [
    "## Testing The Model"
   ]
  },
  {
   "cell_type": "code",
   "execution_count": 6,
   "id": "ab18aaa0",
   "metadata": {},
   "outputs": [
    {
     "data": {
      "text/plain": [
       "0.9890139677546721"
      ]
     },
     "execution_count": 6,
     "metadata": {},
     "output_type": "execute_result"
    }
   ],
   "source": [
    "model.score(X_test,y_test)"
   ]
  },
  {
   "cell_type": "code",
   "execution_count": 7,
   "id": "b1440924",
   "metadata": {},
   "outputs": [
    {
     "data": {
      "text/plain": [
       "array([11.19552, 48.45787, 39.7757 , 16.03573, 16.74402, 11.72378,\n",
       "        8.22074, 36.67562, 12.23936,  6.11907, 29.25438, 34.79956,\n",
       "       30.17212, 15.94395, 52.74999, 11.13673,  6.43505, 14.55562,\n",
       "        9.24415, 38.66311, 44.9463 , 24.56244, 43.38839, 19.45962,\n",
       "       46.18439])"
      ]
     },
     "execution_count": 7,
     "metadata": {},
     "output_type": "execute_result"
    }
   ],
   "source": [
    "model.predict(X_test) "
   ]
  },
  {
   "cell_type": "code",
   "execution_count": 8,
   "id": "f67d1151",
   "metadata": {},
   "outputs": [
    {
     "data": {
      "text/plain": [
       "array([ 9.333, 49.544, 39.952, 15.725, 16.517, 10.522,  8.92 , 38.49 ,\n",
       "       12.027,  6.185, 27.569, 35.939, 26.882, 17.705, 55.299, 10.844,\n",
       "        6.217, 15.038,  9.742, 40.024, 42.036, 26.532, 46.453, 19.128,\n",
       "       44.099])"
      ]
     },
     "execution_count": 8,
     "metadata": {},
     "output_type": "execute_result"
    }
   ],
   "source": [
    "y_test"
   ]
  }
 ],
 "metadata": {
  "kernelspec": {
   "display_name": "Python 3 (ipykernel)",
   "language": "python",
   "name": "python3"
  },
  "language_info": {
   "codemirror_mode": {
    "name": "ipython",
    "version": 3
   },
   "file_extension": ".py",
   "mimetype": "text/x-python",
   "name": "python",
   "nbconvert_exporter": "python",
   "pygments_lexer": "ipython3",
   "version": "3.9.7"
  }
 },
 "nbformat": 4,
 "nbformat_minor": 5
}
